{
 "cells": [
  {
   "cell_type": "code",
   "execution_count": 51,
   "metadata": {},
   "outputs": [],
   "source": [
    "import matplotlib.pyplot as plt\n",
    "import matplotlib.animation as ani\n",
    "from random import shuffle\n",
    "\n",
    "COLOR_WHITE = '#ffffff'\n",
    "COLOR_GOSSIP = '#00ff00'"
   ]
  },
  {
   "cell_type": "code",
   "execution_count": 52,
   "metadata": {},
   "outputs": [],
   "source": [
    "def draw_bar(li, color=COLOR_WHITE):\n",
    "    x_axis = list(range(1, len(li) + 1))\n",
    "    plt.bar(x_axis, li,tick_label=li, align='center', width=0.8, color=color)\n",
    "#    plt.tick_params(axis='x', which='major', labelsize=7)\n",
    "    plt.title('Bubble Sort',fontsize=18)"
   ]
  },
  {
   "cell_type": "code",
   "execution_count": 53,
   "metadata": {},
   "outputs": [],
   "source": [
    "def draw_frame(frame, sorted_li, steps):\n",
    "    plt.clf()\n",
    "    li = steps[frame]\n",
    "    options = {'color': COLOR_GOSSIP} if li == sorted_li else {}\n",
    "    draw_bar(steps[frame], **options)"
   ]
  },
  {
   "cell_type": "code",
   "execution_count": 54,
   "metadata": {},
   "outputs": [],
   "source": [
    "def bubble_sort(li):\n",
    "    sorted_li = list(li)\n",
    "    steps = []\n",
    "\n",
    "    for i in range(0, len(sorted_li)):\n",
    "        for j in range(1, len(sorted_li) - i):\n",
    "            if sorted_li[j - 1] > sorted_li[j]:\n",
    "                sorted_li[j], sorted_li[j - 1] = sorted_li[j - 1], sorted_li[j]\n",
    "\n",
    "            if len(steps) == 0 or steps[-1] != sorted_li:\n",
    "                steps.append(list(sorted_li))\n",
    "\n",
    "    return sorted_li, steps"
   ]
  },
  {
   "cell_type": "code",
   "execution_count": 55,
   "metadata": {},
   "outputs": [
    {
     "name": "stderr",
     "output_type": "stream",
     "text": [
      "MovieWriter imagemagick unavailable; trying to use <class 'matplotlib.animation.PillowWriter'> instead.\n"
     ]
    },
    {
     "data": {
      "image/png": "[encoded data removed]",
      "text/plain": [
       "<Figure size 720x720 with 1 Axes>"
      ]
     },
     "metadata": {
      "needs_background": "light"
     },
     "output_type": "display_data"
    }
   ],
   "source": [
    "if __name__ == '__main__':\n",
    "    li = list(range(1,31))\n",
    "    shuffle(li)\n",
    "\n",
    "    sorted_li, steps = bubble_sort(li)\n",
    "    plt.rcParams['axes.facecolor'] = 'black'\n",
    "    fig = plt.figure(figsize=(10.0, 10.0))\n",
    "\n",
    "    steps = steps + [steps[-1]] * 100\n",
    "    anim = ani.FuncAnimation(fig, draw_frame,fargs=(sorted_li, steps), frames=len(steps))\n",
    "    anim.save('bubble_sort.gif', writer='imagemagick', fps=50)"
   ]
  },
  {
   "cell_type": "code",
   "execution_count": null,
   "metadata": {},
   "outputs": [],
   "source": []
  }
 ],
 "metadata": {
  "kernelspec": {
   "display_name": "Python 3",
   "language": "python",
   "name": "python3"
  },
  "language_info": {
   "codemirror_mode": {
    "name": "ipython",
    "version": 3
   },
   "file_extension": ".py",
   "mimetype": "text/x-python",
   "name": "python",
   "nbconvert_exporter": "python",
   "pygments_lexer": "ipython3",
   "version": "3.7.6"
  }
 },
 "nbformat": 4,
 "nbformat_minor": 4
}
